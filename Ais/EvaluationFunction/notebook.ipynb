{
 "cells": [
  {
   "cell_type": "markdown",
   "metadata": {
    "collapsed": false,
    "jupyter": {
     "outputs_hidden": false
    }
   },
   "source": [
    "# Пятнашки, поиск решение игры с помощью оценочной функции"
   ]
  },
  {
   "cell_type": "markdown",
   "metadata": {
    "collapsed": false,
    "jupyter": {
     "outputs_hidden": false
    }
   },
   "source": [
    "## Работа со состояниями игры"
   ]
  },
  {
   "cell_type": "code",
   "execution_count": 1,
   "metadata": {
    "collapsed": false,
    "jupyter": {
     "outputs_hidden": false
    }
   },
   "outputs": [],
   "source": [
    "import game_state.game_state_provider as game_state_provider\n",
    "from game_state.game_state import print_game_states"
   ]
  },
  {
   "cell_type": "markdown",
   "metadata": {
    "collapsed": false,
    "jupyter": {
     "outputs_hidden": false
    }
   },
   "source": [
    "Финальное состояние игры."
   ]
  },
  {
   "cell_type": "code",
   "execution_count": 2,
   "metadata": {
    "collapsed": false,
    "jupyter": {
     "outputs_hidden": false
    }
   },
   "outputs": [
    {
     "name": "stdout",
     "output_type": "stream",
     "text": [
      "1 2 3\n",
      "4 5 6\n",
      "7 8 0\n"
     ]
    }
   ],
   "source": [
    "game_state_provider.get_final_game_state().print()"
   ]
  },
  {
   "cell_type": "markdown",
   "metadata": {
    "collapsed": false,
    "jupyter": {
     "outputs_hidden": false
    }
   },
   "source": [
    "Случайное состояние игры, полученное путём совершения 1000 случайных перемещений из финального состояния."
   ]
  },
  {
   "cell_type": "code",
   "execution_count": 3,
   "metadata": {
    "collapsed": false,
    "jupyter": {
     "outputs_hidden": false
    }
   },
   "outputs": [
    {
     "name": "stdout",
     "output_type": "stream",
     "text": [
      "5 0 8\n",
      "4 1 3\n",
      "2 6 7\n"
     ]
    }
   ],
   "source": [
    "game_state_provider.get_random_game_state(moves=1000).print()"
   ]
  },
  {
   "cell_type": "markdown",
   "metadata": {
    "collapsed": false,
    "jupyter": {
     "outputs_hidden": false
    }
   },
   "source": [
    "Случайное состояние игры и новые состояния, полученные на основе исходного состояния."
   ]
  },
  {
   "cell_type": "code",
   "execution_count": 4,
   "metadata": {
    "collapsed": false,
    "jupyter": {
     "outputs_hidden": false
    }
   },
   "outputs": [
    {
     "name": "stdout",
     "output_type": "stream",
     "text": [
      "Изначальное состояние:\n",
      "\n",
      "7 8 1\n",
      "4 3 6\n",
      "5 2 0\n",
      "\n",
      "Новые возможные состояния:\n",
      "\n",
      "1)\n",
      "7 8 1\n",
      "4 3 0\n",
      "5 2 6\n",
      "\n",
      "2)\n",
      "7 8 1\n",
      "4 3 6\n",
      "5 0 2\n"
     ]
    }
   ],
   "source": [
    "game_state = game_state_provider.get_random_game_state()\n",
    "print('Изначальное состояние:\\n')\n",
    "game_state.print()\n",
    "\n",
    "next_game_states = game_state_provider.get_next_game_states(game_state)\n",
    "print('\\nНовые возможные состояния:\\n')\n",
    "print_game_states(next_game_states)"
   ]
  },
  {
   "cell_type": "markdown",
   "metadata": {
    "collapsed": false,
    "jupyter": {
     "outputs_hidden": false
    }
   },
   "source": [
    "## Оценочная функция"
   ]
  },
  {
   "cell_type": "markdown",
   "metadata": {
    "collapsed": false,
    "jupyter": {
     "outputs_hidden": false
    }
   },
   "source": [
    "Оценка состояния игры вычисляется как `g * k_g + h * k_h`, где `k_g` и `k_h` - константы, `g` вычисляется как кол-во ячеек, стоящих не на своих местах, `h` вычисляется как кол-во ходов, совершённых для того, чтобы получить текущее состояние игры.\n",
    "\n",
    "Чем меньше значение оценочной функции, тем перспективнее состояние игры."
   ]
  },
  {
   "cell_type": "markdown",
   "metadata": {
    "collapsed": false,
    "jupyter": {
     "outputs_hidden": false
    }
   },
   "source": [
    "``` python\n",
    "def calculate_g_value(game_state):\n",
    "    g = 0\n",
    "\n",
    "    for i in range(rows):\n",
    "        for j in range(columns):\n",
    "            if game_state[i, j] != final_game_state[i, j]:\n",
    "                g += 1\n",
    "\n",
    "    return g\n",
    "\n",
    "\n",
    "def calculate_h_value(game_state):\n",
    "    h = game_state.moves\n",
    "    return h\n",
    "\n",
    "\n",
    "def calculate_evaluation_function_value(game_state, k_g, k_h):\n",
    "    g, h = _calculate_g_value(game_state), _calculate_h_value(game_state)\n",
    "    return g * k_g + k_h * h\n",
    "```"
   ]
  },
  {
   "cell_type": "markdown",
   "metadata": {
    "collapsed": false,
    "jupyter": {
     "outputs_hidden": false
    }
   },
   "source": [
    "## Поиск решения"
   ]
  },
  {
   "cell_type": "code",
   "execution_count": 5,
   "outputs": [],
   "source": [
    "from game_solution.game_solution_search import find_game_solution"
   ],
   "metadata": {
    "collapsed": false
   }
  },
  {
   "cell_type": "markdown",
   "source": [
    "Поиск решения для финального состояния игры с коэффициентами: `k_g = 1`, `k_h = 1`."
   ],
   "metadata": {
    "collapsed": false
   }
  },
  {
   "cell_type": "code",
   "execution_count": 6,
   "outputs": [],
   "source": [
    "game_state = game_state_provider.get_final_game_state()\n",
    "game_solution = find_game_solution(game_state, k_g=1, k_h=1, max_iterations=100000)"
   ],
   "metadata": {
    "collapsed": false
   }
  },
  {
   "cell_type": "code",
   "execution_count": 7,
   "outputs": [
    {
     "name": "stdout",
     "output_type": "stream",
     "text": [
      "Изначальное состояние игры:\n",
      "1 2 3\n",
      "4 5 6\n",
      "7 8 0\n",
      "\n",
      "Всего рассмотрено состояний игры - 1.\n",
      "Размер траектории решения - 1.\n",
      "Эффективность поиска решения - 100.00%.\n"
     ]
    }
   ],
   "source": [
    "game_solution.print_results()"
   ],
   "metadata": {
    "collapsed": false
   }
  },
  {
   "cell_type": "code",
   "execution_count": 8,
   "outputs": [
    {
     "name": "stdout",
     "output_type": "stream",
     "text": [
      "Траектория решения:\n",
      "\n",
      "1)\n",
      "1 2 3\n",
      "4 5 6\n",
      "7 8 0\n"
     ]
    }
   ],
   "source": [
    "game_solution.print_trajectory()"
   ],
   "metadata": {
    "collapsed": false
   }
  },
  {
   "cell_type": "markdown",
   "source": [
    "Поиск решения для случайного состояния игры с коэффициентами: `k_g = 10, k_h = 1`."
   ],
   "metadata": {
    "collapsed": false
   }
  },
  {
   "cell_type": "code",
   "execution_count": 9,
   "outputs": [],
   "source": [
    "game_state = game_state_provider.get_random_game_state(moves=1000)\n",
    "game_solution = find_game_solution(game_state, k_g=10, k_h=1, max_iterations=100000)"
   ],
   "metadata": {
    "collapsed": false
   }
  },
  {
   "cell_type": "code",
   "execution_count": 10,
   "outputs": [
    {
     "name": "stdout",
     "output_type": "stream",
     "text": [
      "Изначальное состояние игры:\n",
      "7 3 6\n",
      "5 1 4\n",
      "0 2 8\n",
      "\n",
      "Всего рассмотрено состояний игры - 446.\n",
      "Размер траектории решения - 25.\n",
      "Эффективность поиска решения - 5.61%.\n"
     ]
    }
   ],
   "source": [
    "game_solution.print_results()"
   ],
   "metadata": {
    "collapsed": false
   }
  },
  {
   "cell_type": "code",
   "execution_count": 11,
   "outputs": [
    {
     "name": "stdout",
     "output_type": "stream",
     "text": [
      "Траектория решения:\n",
      "\n",
      "1)\n",
      "7 3 6\n",
      "5 1 4\n",
      "0 2 8\n",
      "\n",
      "2)\n",
      "7 3 6\n",
      "5 1 4\n",
      "2 0 8\n",
      "\n",
      "3)\n",
      "7 3 6\n",
      "5 1 4\n",
      "2 8 0\n",
      "\n",
      "4)\n",
      "7 3 6\n",
      "5 1 0\n",
      "2 8 4\n",
      "\n",
      "5)\n",
      "7 3 0\n",
      "5 1 6\n",
      "2 8 4\n",
      "\n",
      "6)\n",
      "7 0 3\n",
      "5 1 6\n",
      "2 8 4\n",
      "\n",
      "7)\n",
      "7 1 3\n",
      "5 0 6\n",
      "2 8 4\n",
      "\n",
      "8)\n",
      "7 1 3\n",
      "0 5 6\n",
      "2 8 4\n",
      "\n",
      "9)\n",
      "7 1 3\n",
      "2 5 6\n",
      "0 8 4\n",
      "\n",
      "10)\n",
      "7 1 3\n",
      "2 5 6\n",
      "8 0 4\n",
      "\n",
      "11)\n",
      "7 1 3\n",
      "2 0 6\n",
      "8 5 4\n",
      "\n",
      "12)\n",
      "7 1 3\n",
      "0 2 6\n",
      "8 5 4\n",
      "\n",
      "13)\n",
      "0 1 3\n",
      "7 2 6\n",
      "8 5 4\n",
      "\n",
      "14)\n",
      "1 0 3\n",
      "7 2 6\n",
      "8 5 4\n",
      "\n",
      "15)\n",
      "1 2 3\n",
      "7 0 6\n",
      "8 5 4\n",
      "\n",
      "16)\n",
      "1 2 3\n",
      "7 5 6\n",
      "8 0 4\n",
      "\n",
      "17)\n",
      "1 2 3\n",
      "7 5 6\n",
      "8 4 0\n",
      "\n",
      "18)\n",
      "1 2 3\n",
      "7 5 0\n",
      "8 4 6\n",
      "\n",
      "19)\n",
      "1 2 3\n",
      "7 0 5\n",
      "8 4 6\n",
      "\n",
      "20)\n",
      "1 2 3\n",
      "7 4 5\n",
      "8 0 6\n",
      "\n",
      "21)\n",
      "1 2 3\n",
      "7 4 5\n",
      "0 8 6\n",
      "\n",
      "22)\n",
      "1 2 3\n",
      "0 4 5\n",
      "7 8 6\n",
      "\n",
      "23)\n",
      "1 2 3\n",
      "4 0 5\n",
      "7 8 6\n",
      "\n",
      "24)\n",
      "1 2 3\n",
      "4 5 0\n",
      "7 8 6\n",
      "\n",
      "25)\n",
      "1 2 3\n",
      "4 5 6\n",
      "7 8 0\n"
     ]
    }
   ],
   "source": [
    "game_solution.print_trajectory()"
   ],
   "metadata": {
    "collapsed": false
   }
  },
  {
   "cell_type": "markdown",
   "source": [
    "Поиск решения для случайного некорректного состояния игры с коэффициентами: `k_g = 1, k_h = 1` и с малым ограничением в максимальное число итераций поиска: `max_iterations = 100`."
   ],
   "metadata": {
    "collapsed": false
   }
  },
  {
   "cell_type": "code",
   "execution_count": 12,
   "outputs": [],
   "source": [
    "game_state = game_state_provider.get_incorrect_random_game_state(moves=1000)\n",
    "game_solution = find_game_solution(game_state, k_g=1, k_h=1, max_iterations=100)"
   ],
   "metadata": {
    "collapsed": false
   }
  },
  {
   "cell_type": "code",
   "execution_count": 13,
   "outputs": [
    {
     "name": "stdout",
     "output_type": "stream",
     "text": [
      "Изначальное состояние игры:\n",
      "3 1 7\n",
      "0 8 5\n",
      "2 6 4\n",
      "\n",
      "Решение не было найдено.\n",
      "Причина: \"Превышено максимально число рассмотренных состояний игры\".\n",
      "Всего рассмотрено состояний игры - 171.\n"
     ]
    }
   ],
   "source": [
    "game_solution.print_results()"
   ],
   "metadata": {
    "collapsed": false
   }
  },
  {
   "cell_type": "code",
   "execution_count": 14,
   "outputs": [
    {
     "name": "stdout",
     "output_type": "stream",
     "text": [
      "Траектория решения отсутствует.\n"
     ]
    }
   ],
   "source": [
    "game_solution.print_trajectory()"
   ],
   "metadata": {
    "collapsed": false
   }
  },
  {
   "cell_type": "markdown",
   "source": [
    "Поиск решения для случайного некорректного состояния игры с коэффициентами: `k_g = 1, k_h = 10` и с большим ограничением в максимальное число итераций поиска: `max_iterations = 1000000`."
   ],
   "metadata": {
    "collapsed": false
   }
  },
  {
   "cell_type": "code",
   "execution_count": 15,
   "outputs": [],
   "source": [
    "game_state = game_state_provider.get_incorrect_random_game_state(moves=1000)\n",
    "game_solution = find_game_solution(game_state, k_g=1, k_h=10, max_iterations=1000000)"
   ],
   "metadata": {
    "collapsed": false
   }
  },
  {
   "cell_type": "code",
   "execution_count": 16,
   "outputs": [
    {
     "name": "stdout",
     "output_type": "stream",
     "text": [
      "Изначальное состояние игры:\n",
      "1 0 4\n",
      "5 3 8\n",
      "2 7 6\n",
      "\n",
      "Решение не было найдено.\n",
      "Причина: \"Рассмотрены все возможные состояния игры\".\n",
      "Всего рассмотрено состояний игры - 181440.\n"
     ]
    }
   ],
   "source": [
    "game_solution.print_results()"
   ],
   "metadata": {
    "collapsed": false
   }
  },
  {
   "cell_type": "code",
   "execution_count": 17,
   "outputs": [
    {
     "name": "stdout",
     "output_type": "stream",
     "text": [
      "Траектория решения отсутствует.\n"
     ]
    }
   ],
   "source": [
    "game_solution.print_trajectory()"
   ],
   "metadata": {
    "collapsed": false
   }
  },
  {
   "cell_type": "markdown",
   "source": [
    "## Визуализация дерева"
   ],
   "metadata": {
    "collapsed": false
   }
  },
  {
   "cell_type": "markdown",
   "source": [
    "Построим дерево, описывающее поиск решения, для состояния игры из документа."
   ],
   "metadata": {
    "collapsed": false
   }
  },
  {
   "cell_type": "code",
   "execution_count": 18,
   "outputs": [],
   "source": [
    "from game_state.game_state import GameState\n",
    "from game_solution.game_solution_visualization import draw_tree"
   ],
   "metadata": {
    "collapsed": false
   }
  },
  {
   "cell_type": "code",
   "execution_count": 19,
   "outputs": [],
   "source": [
    "values = [\n",
    "    [2, 4, 3],\n",
    "    [1, 8, 5],\n",
    "    [7, 0, 6]\n",
    "]\n",
    "\n",
    "game_state = GameState(values)\n",
    "game_solution = find_game_solution(game_state, k_g=1, k_h=1, max_iterations=100000)"
   ],
   "metadata": {
    "collapsed": false
   }
  },
  {
   "cell_type": "code",
   "execution_count": 20,
   "outputs": [
    {
     "name": "stdout",
     "output_type": "stream",
     "text": [
      "Изначальное состояние игры:\n",
      "2 4 3\n",
      "1 8 5\n",
      "7 0 6\n",
      "\n",
      "Всего рассмотрено состояний игры - 21.\n",
      "Размер траектории решения - 8.\n",
      "Эффективность поиска решения - 38.10%.\n"
     ]
    }
   ],
   "source": [
    "game_solution.print_results()"
   ],
   "metadata": {
    "collapsed": false
   }
  },
  {
   "cell_type": "code",
   "execution_count": 21,
   "outputs": [
    {
     "name": "stdout",
     "output_type": "stream",
     "text": [
      "Траектория решения:\n",
      "\n",
      "1)\n",
      "2 4 3\n",
      "1 8 5\n",
      "7 0 6\n",
      "\n",
      "2)\n",
      "2 4 3\n",
      "1 0 5\n",
      "7 8 6\n",
      "\n",
      "3)\n",
      "2 0 3\n",
      "1 4 5\n",
      "7 8 6\n",
      "\n",
      "4)\n",
      "0 2 3\n",
      "1 4 5\n",
      "7 8 6\n",
      "\n",
      "5)\n",
      "1 2 3\n",
      "0 4 5\n",
      "7 8 6\n",
      "\n",
      "6)\n",
      "1 2 3\n",
      "4 0 5\n",
      "7 8 6\n",
      "\n",
      "7)\n",
      "1 2 3\n",
      "4 5 0\n",
      "7 8 6\n",
      "\n",
      "8)\n",
      "1 2 3\n",
      "4 5 6\n",
      "7 8 0\n"
     ]
    }
   ],
   "source": [
    "game_solution.print_trajectory()"
   ],
   "metadata": {
    "collapsed": false
   }
  },
  {
   "cell_type": "code",
   "execution_count": 22,
   "outputs": [
    {
     "data": {
      "text/plain": "<Figure size 640x480 with 1 Axes>",
      "image/png": "[encoded data removed]"
     },
     "metadata": {},
     "output_type": "display_data"
    }
   ],
   "source": [
    "draw_tree(game_solution, node_size=600, font_size=8, width=0.75, arrow_size=6)"
   ],
   "metadata": {
    "collapsed": false
   }
  }
 ],
 "metadata": {
  "kernelspec": {
   "display_name": "Python 3 (ipykernel)",
   "language": "python",
   "name": "python3"
  },
  "language_info": {
   "codemirror_mode": {
    "name": "ipython",
    "version": 3
   },
   "file_extension": ".py",
   "mimetype": "text/x-python",
   "name": "python",
   "nbconvert_exporter": "python",
   "pygments_lexer": "ipython3",
   "version": "3.12.2"
  }
 },
 "nbformat": 4,
 "nbformat_minor": 4
}
