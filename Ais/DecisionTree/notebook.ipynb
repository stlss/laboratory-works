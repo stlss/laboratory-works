{
 "cells": [
  {
   "cell_type": "markdown",
   "source": [
    "# Дерево решений, ID3"
   ],
   "metadata": {
    "collapsed": false
   }
  },
  {
   "cell_type": "markdown",
   "source": [
    "## Подготовка данных"
   ],
   "metadata": {
    "collapsed": false
   }
  },
  {
   "cell_type": "markdown",
   "source": [
    "Набор данных был взят с платформы kaggle, [классификация цены мобильного устройства](https://www.kaggle.com/datasets/iabhishekofficial/mobile-price-classification/data).\n",
    "\n",
    "После преобразования итоговый набор содержит 8 столбцов, включая целевой признак (ценовой диапазон), 100 записей, из которых 80 предназначены для обучения дерева решения, 20 для тестирования.\n",
    "\n",
    "Ниже представлен набор данных."
   ],
   "metadata": {
    "collapsed": false
   }
  },
  {
   "cell_type": "code",
   "execution_count": 1,
   "metadata": {
    "collapsed": false,
    "jupyter": {
     "outputs_hidden": false
    }
   },
   "outputs": [],
   "source": [
    "import data_provider.data_provider as data_provider"
   ]
  },
  {
   "cell_type": "code",
   "execution_count": 2,
   "metadata": {
    "collapsed": false,
    "jupyter": {
     "outputs_hidden": false
    }
   },
   "outputs": [
    {
     "data": {
      "text/plain": "   Мощность батареи (mAh) Частота процессора (gHz) Число ядер процессора (n)  \\\n0        798.50 - 1151.50              1.60 - 2.32               1.00 - 3.00   \n1        798.50 - 1151.50              0.50 - 0.67               3.00 - 4.00   \n2         509.00 - 798.50              0.50 - 0.67               4.00 - 7.00   \n3         509.00 - 798.50              2.32 - 3.00               4.00 - 7.00   \n4       1613.00 - 1977.00              0.67 - 1.60               1.00 - 3.00   \n..                    ...                      ...                       ...   \n83       798.50 - 1151.50              0.67 - 1.60               3.00 - 4.00   \n84       798.50 - 1151.50              2.32 - 3.00               1.00 - 3.00   \n85      1151.50 - 1613.00              2.32 - 3.00               7.00 - 8.00   \n87       798.50 - 1151.50              2.32 - 3.00               3.00 - 4.00   \n88        509.00 - 798.50              0.50 - 0.67               4.00 - 7.00   \n\n   Число мегапикселей (n) Объём встроенной памяти (gb)  \\\n0             0.00 - 7.00                 3.00 - 16.75   \n1             0.00 - 7.00                50.25 - 64.00   \n2            7.00 - 14.00                38.50 - 50.25   \n3            7.00 - 14.00                 3.00 - 16.75   \n4           24.00 - 37.00                38.50 - 50.25   \n..                    ...                          ...   \n83          24.00 - 37.00                50.25 - 64.00   \n84          14.00 - 24.00                50.25 - 64.00   \n85          14.00 - 24.00                16.75 - 38.50   \n87           7.00 - 14.00                50.25 - 64.00   \n88           7.00 - 14.00                 3.00 - 16.75   \n\n   Объём оперативной памяти (mb) Площадь экрана (cm^2)  Ценовой диапазон  \n0              2209.50 - 3079.00        63.00 - 143.25                 2  \n1              2209.50 - 3079.00         29.50 - 63.00                 3  \n2              2209.50 - 3079.00          5.00 - 29.50                 3  \n3              2209.50 - 3079.00        63.00 - 143.25                 3  \n4              1321.50 - 2209.50          5.00 - 29.50                 2  \n..                           ...                   ...               ...  \n83             1321.50 - 2209.50         29.50 - 63.00                 2  \n84             1321.50 - 2209.50         29.50 - 63.00                 2  \n85              349.00 - 1321.50        63.00 - 143.25                 2  \n87             3079.00 - 3993.00         29.50 - 63.00                 4  \n88             2209.50 - 3079.00         29.50 - 63.00                 3  \n\n[80 rows x 8 columns]",
      "text/html": "<div>\n<style scoped>\n    .dataframe tbody tr th:only-of-type {\n        vertical-align: middle;\n    }\n\n    .dataframe tbody tr th {\n        vertical-align: top;\n    }\n\n    .dataframe thead th {\n        text-align: right;\n    }\n</style>\n<table border=\"1\" class=\"dataframe\">\n  <thead>\n    <tr style=\"text-align: right;\">\n      <th></th>\n      <th>Мощность батареи (mAh)</th>\n      <th>Частота процессора (gHz)</th>\n      <th>Число ядер процессора (n)</th>\n      <th>Число мегапикселей (n)</th>\n      <th>Объём встроенной памяти (gb)</th>\n      <th>Объём оперативной памяти (mb)</th>\n      <th>Площадь экрана (cm^2)</th>\n      <th>Ценовой диапазон</th>\n    </tr>\n  </thead>\n  <tbody>\n    <tr>\n      <th>0</th>\n      <td>798.50 - 1151.50</td>\n      <td>1.60 - 2.32</td>\n      <td>1.00 - 3.00</td>\n      <td>0.00 - 7.00</td>\n      <td>3.00 - 16.75</td>\n      <td>2209.50 - 3079.00</td>\n      <td>63.00 - 143.25</td>\n      <td>2</td>\n    </tr>\n    <tr>\n      <th>1</th>\n      <td>798.50 - 1151.50</td>\n      <td>0.50 - 0.67</td>\n      <td>3.00 - 4.00</td>\n      <td>0.00 - 7.00</td>\n      <td>50.25 - 64.00</td>\n      <td>2209.50 - 3079.00</td>\n      <td>29.50 - 63.00</td>\n      <td>3</td>\n    </tr>\n    <tr>\n      <th>2</th>\n      <td>509.00 - 798.50</td>\n      <td>0.50 - 0.67</td>\n      <td>4.00 - 7.00</td>\n      <td>7.00 - 14.00</td>\n      <td>38.50 - 50.25</td>\n      <td>2209.50 - 3079.00</td>\n      <td>5.00 - 29.50</td>\n      <td>3</td>\n    </tr>\n    <tr>\n      <th>3</th>\n      <td>509.00 - 798.50</td>\n      <td>2.32 - 3.00</td>\n      <td>4.00 - 7.00</td>\n      <td>7.00 - 14.00</td>\n      <td>3.00 - 16.75</td>\n      <td>2209.50 - 3079.00</td>\n      <td>63.00 - 143.25</td>\n      <td>3</td>\n    </tr>\n    <tr>\n      <th>4</th>\n      <td>1613.00 - 1977.00</td>\n      <td>0.67 - 1.60</td>\n      <td>1.00 - 3.00</td>\n      <td>24.00 - 37.00</td>\n      <td>38.50 - 50.25</td>\n      <td>1321.50 - 2209.50</td>\n      <td>5.00 - 29.50</td>\n      <td>2</td>\n    </tr>\n    <tr>\n      <th>...</th>\n      <td>...</td>\n      <td>...</td>\n      <td>...</td>\n      <td>...</td>\n      <td>...</td>\n      <td>...</td>\n      <td>...</td>\n      <td>...</td>\n    </tr>\n    <tr>\n      <th>83</th>\n      <td>798.50 - 1151.50</td>\n      <td>0.67 - 1.60</td>\n      <td>3.00 - 4.00</td>\n      <td>24.00 - 37.00</td>\n      <td>50.25 - 64.00</td>\n      <td>1321.50 - 2209.50</td>\n      <td>29.50 - 63.00</td>\n      <td>2</td>\n    </tr>\n    <tr>\n      <th>84</th>\n      <td>798.50 - 1151.50</td>\n      <td>2.32 - 3.00</td>\n      <td>1.00 - 3.00</td>\n      <td>14.00 - 24.00</td>\n      <td>50.25 - 64.00</td>\n      <td>1321.50 - 2209.50</td>\n      <td>29.50 - 63.00</td>\n      <td>2</td>\n    </tr>\n    <tr>\n      <th>85</th>\n      <td>1151.50 - 1613.00</td>\n      <td>2.32 - 3.00</td>\n      <td>7.00 - 8.00</td>\n      <td>14.00 - 24.00</td>\n      <td>16.75 - 38.50</td>\n      <td>349.00 - 1321.50</td>\n      <td>63.00 - 143.25</td>\n      <td>2</td>\n    </tr>\n    <tr>\n      <th>87</th>\n      <td>798.50 - 1151.50</td>\n      <td>2.32 - 3.00</td>\n      <td>3.00 - 4.00</td>\n      <td>7.00 - 14.00</td>\n      <td>50.25 - 64.00</td>\n      <td>3079.00 - 3993.00</td>\n      <td>29.50 - 63.00</td>\n      <td>4</td>\n    </tr>\n    <tr>\n      <th>88</th>\n      <td>509.00 - 798.50</td>\n      <td>0.50 - 0.67</td>\n      <td>4.00 - 7.00</td>\n      <td>7.00 - 14.00</td>\n      <td>3.00 - 16.75</td>\n      <td>2209.50 - 3079.00</td>\n      <td>29.50 - 63.00</td>\n      <td>3</td>\n    </tr>\n  </tbody>\n</table>\n<p>80 rows × 8 columns</p>\n</div>"
     },
     "execution_count": 2,
     "metadata": {},
     "output_type": "execute_result"
    }
   ],
   "source": [
    "train_data = data_provider.get_train_data()\n",
    "train_data"
   ]
  },
  {
   "cell_type": "markdown",
   "metadata": {
    "collapsed": false,
    "jupyter": {
     "outputs_hidden": false
    }
   },
   "source": [
    "Изначальное все признаки имели числовые значения, но алгоритм ID3 требует, чтобы значения были категориальными, поэтому все признаки были переведены в диапазоны. Всего диапазонов 4 для каждого признака, они подобраны таким образом, чтобы в каждый диапазон входило примерно 25% значений признака.\n",
    "\n",
    "Ценовой диапазон в оригинальном наборе данных изначально имел всего 4 значения."
   ]
  },
  {
   "cell_type": "code",
   "execution_count": 3,
   "metadata": {
    "collapsed": false,
    "jupyter": {
     "outputs_hidden": false
    }
   },
   "outputs": [
    {
     "name": "stdout",
     "output_type": "stream",
     "text": [
      "Мощность батареи (mAh)\n",
      "['509.00 - 798.50',\n",
      " '798.50 - 1151.50',\n",
      " '1151.50 - 1613.00',\n",
      " '1613.00 - 1977.00']\n",
      "\n",
      "Частота процессора (gHz)\n",
      "['0.50 - 0.67', '0.67 - 1.60', '1.60 - 2.32', '2.32 - 3.00']\n",
      "\n",
      "Число ядер процессора (n)\n",
      "['1.00 - 3.00', '3.00 - 4.00', '4.00 - 7.00', '7.00 - 8.00']\n",
      "\n",
      "Число мегапикселей (n)\n",
      "['0.00 - 7.00', '7.00 - 14.00', '14.00 - 24.00', '24.00 - 37.00']\n",
      "\n",
      "Объём встроенной памяти (gb)\n",
      "['3.00 - 16.75', '16.75 - 38.50', '38.50 - 50.25', '50.25 - 64.00']\n",
      "\n",
      "Объём оперативной памяти (mb)\n",
      "['349.00 - 1321.50',\n",
      " '1321.50 - 2209.50',\n",
      " '2209.50 - 3079.00',\n",
      " '3079.00 - 3993.00']\n",
      "\n",
      "Площадь экрана (cm^2)\n",
      "['5.00 - 29.50', '29.50 - 63.00', '63.00 - 143.25', '143.25 - 323.00']\n",
      "\n",
      "Ценовой диапазон\n",
      "['1', '2', '3', '4']\n",
      "\n"
     ]
    }
   ],
   "source": [
    "data_provider.print_unique_column_values()"
   ]
  },
  {
   "cell_type": "code",
   "execution_count": 3,
   "metadata": {
    "collapsed": false,
    "jupyter": {
     "outputs_hidden": false
    }
   },
   "outputs": [],
   "source": []
  }
 ],
 "metadata": {
  "kernelspec": {
   "display_name": "Python 3 (ipykernel)",
   "language": "python",
   "name": "python3"
  },
  "language_info": {
   "codemirror_mode": {
    "name": "ipython",
    "version": 3
   },
   "file_extension": ".py",
   "mimetype": "text/x-python",
   "name": "python",
   "nbconvert_exporter": "python",
   "pygments_lexer": "ipython3",
   "version": "3.12.2"
  }
 },
 "nbformat": 4,
 "nbformat_minor": 4
}
